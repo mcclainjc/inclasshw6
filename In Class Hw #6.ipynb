{
 "cells": [
  {
   "cell_type": "code",
   "execution_count": 1,
   "id": "7be2768d",
   "metadata": {},
   "outputs": [],
   "source": [
    "import pandas as pd\n",
    "#question I propose: Does english rap/hip-hop pertain to the most popular songs on spotify?"
   ]
  },
  {
   "cell_type": "code",
   "execution_count": 2,
   "id": "d5abf185",
   "metadata": {},
   "outputs": [
    {
     "name": "stdout",
     "output_type": "stream",
     "text": [
      "        popularity  track_genre                 artists\n",
      "0               73     acoustic             Gen Hoshino\n",
      "1               55     acoustic            Ben Woodward\n",
      "2               57     acoustic  Ingrid Michaelson;ZAYN\n",
      "3               71     acoustic            Kina Grannis\n",
      "4               82     acoustic        Chord Overstreet\n",
      "...            ...          ...                     ...\n",
      "113995          21  world-music           Rainy Lullaby\n",
      "113996          22  world-music           Rainy Lullaby\n",
      "113997          22  world-music           Cesária Evora\n",
      "113998          41  world-music        Michael W. Smith\n",
      "113999          22  world-music           Cesária Evora\n",
      "\n",
      "[114000 rows x 3 columns]\n"
     ]
    }
   ],
   "source": [
    "data = pd.read_csv(\"C:/Users/mccla/Desktop/dataset.csv\")\n",
    "df = pd.DataFrame(data, columns=['popularity', 'track_genre', 'artists'])\n",
    "print(df)"
   ]
  },
  {
   "cell_type": "code",
   "execution_count": 3,
   "id": "23137ae6",
   "metadata": {},
   "outputs": [
    {
     "data": {
      "text/html": [
       "<div>\n",
       "<style scoped>\n",
       "    .dataframe tbody tr th:only-of-type {\n",
       "        vertical-align: middle;\n",
       "    }\n",
       "\n",
       "    .dataframe tbody tr th {\n",
       "        vertical-align: top;\n",
       "    }\n",
       "\n",
       "    .dataframe thead th {\n",
       "        text-align: right;\n",
       "    }\n",
       "</style>\n",
       "<table border=\"1\" class=\"dataframe\">\n",
       "  <thead>\n",
       "    <tr style=\"text-align: right;\">\n",
       "      <th></th>\n",
       "      <th>popularity</th>\n",
       "      <th>track_genre</th>\n",
       "      <th>artists</th>\n",
       "    </tr>\n",
       "  </thead>\n",
       "  <tbody>\n",
       "    <tr>\n",
       "      <th>88405</th>\n",
       "      <td>97</td>\n",
       "      <td>reggae</td>\n",
       "      <td>Bad Bunny;Chencho Corleone</td>\n",
       "    </tr>\n",
       "    <tr>\n",
       "      <th>68305</th>\n",
       "      <td>97</td>\n",
       "      <td>latino</td>\n",
       "      <td>Bad Bunny;Chencho Corleone</td>\n",
       "    </tr>\n",
       "    <tr>\n",
       "      <th>68304</th>\n",
       "      <td>97</td>\n",
       "      <td>latino</td>\n",
       "      <td>Bad Bunny</td>\n",
       "    </tr>\n",
       "    <tr>\n",
       "      <th>88407</th>\n",
       "      <td>97</td>\n",
       "      <td>reggae</td>\n",
       "      <td>Bad Bunny</td>\n",
       "    </tr>\n",
       "    <tr>\n",
       "      <th>89405</th>\n",
       "      <td>97</td>\n",
       "      <td>reggaeton</td>\n",
       "      <td>Bad Bunny</td>\n",
       "    </tr>\n",
       "    <tr>\n",
       "      <th>81210</th>\n",
       "      <td>98</td>\n",
       "      <td>pop</td>\n",
       "      <td>David Guetta;Bebe Rexha</td>\n",
       "    </tr>\n",
       "    <tr>\n",
       "      <th>88410</th>\n",
       "      <td>98</td>\n",
       "      <td>reggae</td>\n",
       "      <td>Manuel Turizo</td>\n",
       "    </tr>\n",
       "    <tr>\n",
       "      <th>68303</th>\n",
       "      <td>98</td>\n",
       "      <td>latino</td>\n",
       "      <td>Manuel Turizo</td>\n",
       "    </tr>\n",
       "    <tr>\n",
       "      <th>20008</th>\n",
       "      <td>98</td>\n",
       "      <td>dance</td>\n",
       "      <td>David Guetta;Bebe Rexha</td>\n",
       "    </tr>\n",
       "    <tr>\n",
       "      <th>67356</th>\n",
       "      <td>98</td>\n",
       "      <td>latin</td>\n",
       "      <td>Manuel Turizo</td>\n",
       "    </tr>\n",
       "    <tr>\n",
       "      <th>89411</th>\n",
       "      <td>98</td>\n",
       "      <td>reggaeton</td>\n",
       "      <td>Manuel Turizo</td>\n",
       "    </tr>\n",
       "    <tr>\n",
       "      <th>30003</th>\n",
       "      <td>98</td>\n",
       "      <td>edm</td>\n",
       "      <td>David Guetta;Bebe Rexha</td>\n",
       "    </tr>\n",
       "    <tr>\n",
       "      <th>51664</th>\n",
       "      <td>99</td>\n",
       "      <td>hip-hop</td>\n",
       "      <td>Bizarrap;Quevedo</td>\n",
       "    </tr>\n",
       "    <tr>\n",
       "      <th>81051</th>\n",
       "      <td>100</td>\n",
       "      <td>pop</td>\n",
       "      <td>Sam Smith;Kim Petras</td>\n",
       "    </tr>\n",
       "    <tr>\n",
       "      <th>20001</th>\n",
       "      <td>100</td>\n",
       "      <td>dance</td>\n",
       "      <td>Sam Smith;Kim Petras</td>\n",
       "    </tr>\n",
       "  </tbody>\n",
       "</table>\n",
       "</div>"
      ],
      "text/plain": [
       "       popularity track_genre                     artists\n",
       "88405          97      reggae  Bad Bunny;Chencho Corleone\n",
       "68305          97      latino  Bad Bunny;Chencho Corleone\n",
       "68304          97      latino                   Bad Bunny\n",
       "88407          97      reggae                   Bad Bunny\n",
       "89405          97   reggaeton                   Bad Bunny\n",
       "81210          98         pop     David Guetta;Bebe Rexha\n",
       "88410          98      reggae               Manuel Turizo\n",
       "68303          98      latino               Manuel Turizo\n",
       "20008          98       dance     David Guetta;Bebe Rexha\n",
       "67356          98       latin               Manuel Turizo\n",
       "89411          98   reggaeton               Manuel Turizo\n",
       "30003          98         edm     David Guetta;Bebe Rexha\n",
       "51664          99     hip-hop            Bizarrap;Quevedo\n",
       "81051         100         pop        Sam Smith;Kim Petras\n",
       "20001         100       dance        Sam Smith;Kim Petras"
      ]
     },
     "execution_count": 3,
     "metadata": {},
     "output_type": "execute_result"
    }
   ],
   "source": [
    "df.sort_values(by=['popularity']).tail(15)"
   ]
  },
  {
   "cell_type": "code",
   "execution_count": 4,
   "id": "187a4849",
   "metadata": {},
   "outputs": [],
   "source": [
    "import matplotlib as plt"
   ]
  },
  {
   "cell_type": "code",
   "execution_count": 5,
   "id": "72235a28",
   "metadata": {},
   "outputs": [
    {
     "data": {
      "image/png": "[encoded data removed]",
      "text/plain": [
       "<Figure size 432x288 with 1 Axes>"
      ]
     },
     "metadata": {
      "needs_background": "light"
     },
     "output_type": "display_data"
    }
   ],
   "source": [
    "df = pd.DataFrame({'genre':['reggae', 'latino', 'pop', 'dance', 'hip-hop'], 'average popularity':[9.74, 9.75, 9.9, 9.86, 9.9]})\n",
    "ax = df.plot.bar(x='genre', y='average popularity', rot=0)\n",
    "#Figure showing the average popularity by genre in the top 15 most popular songs"
   ]
  },
  {
   "cell_type": "code",
   "execution_count": 6,
   "id": "e8878e16",
   "metadata": {},
   "outputs": [
    {
     "data": {
      "image/png": "[encoded data removed]",
      "text/plain": [
       "<Figure size 360x360 with 1 Axes>"
      ]
     },
     "metadata": {},
     "output_type": "display_data"
    }
   ],
   "source": [
    "df = pd.DataFrame({'frequency': [5, 3, 4, 1, 2]},\n",
    "                  index=['Bad Bunny', 'David Guetta', 'Manuel Turizo', 'Bizarrap', 'Sam Smith'])\n",
    "plot = df.plot.pie(y='frequency', figsize=(5, 5))\n",
    "#Figure showing the frequency of artists appearing in the top 15 most popular songs"
   ]
  },
  {
   "cell_type": "code",
   "execution_count": null,
   "id": "e254d026",
   "metadata": {},
   "outputs": [],
   "source": []
  }
 ],
 "metadata": {
  "kernelspec": {
   "display_name": "Python 3 (ipykernel)",
   "language": "python",
   "name": "python3"
  },
  "language_info": {
   "codemirror_mode": {
    "name": "ipython",
    "version": 3
   },
   "file_extension": ".py",
   "mimetype": "text/x-python",
   "name": "python",
   "nbconvert_exporter": "python",
   "pygments_lexer": "ipython3",
   "version": "3.9.12"
  }
 },
 "nbformat": 4,
 "nbformat_minor": 5
}
